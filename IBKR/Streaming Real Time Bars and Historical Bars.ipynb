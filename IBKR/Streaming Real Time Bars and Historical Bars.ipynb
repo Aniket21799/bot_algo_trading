{
 "cells": [
  {
   "cell_type": "code",
   "execution_count": 1,
   "id": "9a0d7486",
   "metadata": {},
   "outputs": [],
   "source": [
    "from ib_insync import *\n",
    "import pandas as pd\n",
    "import matplotlib.pyplot as plt\n",
    "from IPython.display import display, clear_output\n",
    "util.startLoop()"
   ]
  },
  {
   "cell_type": "code",
   "execution_count": 2,
   "id": "fb2bebda",
   "metadata": {},
   "outputs": [
    {
     "data": {
      "text/plain": [
       "<IB connected to 127.0.0.1:7497 clientId=1>"
      ]
     },
     "execution_count": 2,
     "metadata": {},
     "output_type": "execute_result"
    }
   ],
   "source": [
    "ib = IB()\n",
    "ib.connect()"
   ]
  },
  {
   "cell_type": "code",
   "execution_count": 3,
   "id": "0563ba68",
   "metadata": {},
   "outputs": [
    {
     "data": {
      "text/plain": [
       "Forex('EURUSD', exchange='IDEALPRO')"
      ]
     },
     "execution_count": 3,
     "metadata": {},
     "output_type": "execute_result"
    }
   ],
   "source": [
    "contract = Forex('EURUSD')\n",
    "contract"
   ]
  },
  {
   "cell_type": "code",
   "execution_count": 4,
   "id": "63222d09",
   "metadata": {},
   "outputs": [],
   "source": [
    "bars = ib.reqHistoricalData(contract,\n",
    "                            endDateTime= '',\n",
    "                            durationStr= '100 S',\n",
    "                            barSizeSetting= '10 secs',\n",
    "                            whatToShow= 'MIDPOINT',\n",
    "                            useRTH= True,\n",
    "                            formatDate= 2 ,\n",
    "                            keepUpToDate= True)"
   ]
  },
  {
   "cell_type": "code",
   "execution_count": 5,
   "id": "b2416bef",
   "metadata": {},
   "outputs": [
    {
     "data": {
      "text/html": [
       "<div>\n",
       "<style scoped>\n",
       "    .dataframe tbody tr th:only-of-type {\n",
       "        vertical-align: middle;\n",
       "    }\n",
       "\n",
       "    .dataframe tbody tr th {\n",
       "        vertical-align: top;\n",
       "    }\n",
       "\n",
       "    .dataframe thead th {\n",
       "        text-align: right;\n",
       "    }\n",
       "</style>\n",
       "<table border=\"1\" class=\"dataframe\">\n",
       "  <thead>\n",
       "    <tr style=\"text-align: right;\">\n",
       "      <th></th>\n",
       "      <th>date</th>\n",
       "      <th>open</th>\n",
       "      <th>high</th>\n",
       "      <th>low</th>\n",
       "      <th>close</th>\n",
       "      <th>volume</th>\n",
       "      <th>average</th>\n",
       "      <th>barCount</th>\n",
       "    </tr>\n",
       "  </thead>\n",
       "  <tbody>\n",
       "    <tr>\n",
       "      <th>0</th>\n",
       "      <td>2023-04-07 12:13:10+00:00</td>\n",
       "      <td>1.09155</td>\n",
       "      <td>1.09155</td>\n",
       "      <td>1.09155</td>\n",
       "      <td>1.09155</td>\n",
       "      <td>-1.0</td>\n",
       "      <td>-1.0</td>\n",
       "      <td>-1</td>\n",
       "    </tr>\n",
       "    <tr>\n",
       "      <th>1</th>\n",
       "      <td>2023-04-07 12:13:20+00:00</td>\n",
       "      <td>1.09155</td>\n",
       "      <td>1.09155</td>\n",
       "      <td>1.09155</td>\n",
       "      <td>1.09155</td>\n",
       "      <td>-1.0</td>\n",
       "      <td>-1.0</td>\n",
       "      <td>-1</td>\n",
       "    </tr>\n",
       "    <tr>\n",
       "      <th>2</th>\n",
       "      <td>2023-04-07 12:13:30+00:00</td>\n",
       "      <td>1.09155</td>\n",
       "      <td>1.09155</td>\n",
       "      <td>1.09145</td>\n",
       "      <td>1.09150</td>\n",
       "      <td>-1.0</td>\n",
       "      <td>-1.0</td>\n",
       "      <td>-1</td>\n",
       "    </tr>\n",
       "    <tr>\n",
       "      <th>3</th>\n",
       "      <td>2023-04-07 12:13:40+00:00</td>\n",
       "      <td>1.09150</td>\n",
       "      <td>1.09150</td>\n",
       "      <td>1.09145</td>\n",
       "      <td>1.09145</td>\n",
       "      <td>-1.0</td>\n",
       "      <td>-1.0</td>\n",
       "      <td>-1</td>\n",
       "    </tr>\n",
       "    <tr>\n",
       "      <th>4</th>\n",
       "      <td>2023-04-07 12:13:50+00:00</td>\n",
       "      <td>1.09145</td>\n",
       "      <td>1.09145</td>\n",
       "      <td>1.09145</td>\n",
       "      <td>1.09145</td>\n",
       "      <td>-1.0</td>\n",
       "      <td>-1.0</td>\n",
       "      <td>-1</td>\n",
       "    </tr>\n",
       "    <tr>\n",
       "      <th>5</th>\n",
       "      <td>2023-04-07 12:14:00+00:00</td>\n",
       "      <td>1.09145</td>\n",
       "      <td>1.09145</td>\n",
       "      <td>1.09145</td>\n",
       "      <td>1.09145</td>\n",
       "      <td>-1.0</td>\n",
       "      <td>-1.0</td>\n",
       "      <td>-1</td>\n",
       "    </tr>\n",
       "    <tr>\n",
       "      <th>6</th>\n",
       "      <td>2023-04-07 12:14:10+00:00</td>\n",
       "      <td>1.09145</td>\n",
       "      <td>1.09150</td>\n",
       "      <td>1.09145</td>\n",
       "      <td>1.09150</td>\n",
       "      <td>-1.0</td>\n",
       "      <td>-1.0</td>\n",
       "      <td>-1</td>\n",
       "    </tr>\n",
       "    <tr>\n",
       "      <th>7</th>\n",
       "      <td>2023-04-07 12:14:20+00:00</td>\n",
       "      <td>1.09150</td>\n",
       "      <td>1.09150</td>\n",
       "      <td>1.09150</td>\n",
       "      <td>1.09150</td>\n",
       "      <td>-1.0</td>\n",
       "      <td>-1.0</td>\n",
       "      <td>-1</td>\n",
       "    </tr>\n",
       "    <tr>\n",
       "      <th>8</th>\n",
       "      <td>2023-04-07 12:14:30+00:00</td>\n",
       "      <td>1.09150</td>\n",
       "      <td>1.09155</td>\n",
       "      <td>1.09150</td>\n",
       "      <td>1.09150</td>\n",
       "      <td>-1.0</td>\n",
       "      <td>-1.0</td>\n",
       "      <td>-1</td>\n",
       "    </tr>\n",
       "    <tr>\n",
       "      <th>9</th>\n",
       "      <td>2023-04-07 12:14:40+00:00</td>\n",
       "      <td>1.09150</td>\n",
       "      <td>1.09150</td>\n",
       "      <td>1.09150</td>\n",
       "      <td>1.09150</td>\n",
       "      <td>-1.0</td>\n",
       "      <td>-1.0</td>\n",
       "      <td>-1</td>\n",
       "    </tr>\n",
       "    <tr>\n",
       "      <th>10</th>\n",
       "      <td>2023-04-07 12:14:50+00:00</td>\n",
       "      <td>1.09150</td>\n",
       "      <td>1.09150</td>\n",
       "      <td>1.09150</td>\n",
       "      <td>1.09150</td>\n",
       "      <td>-1.0</td>\n",
       "      <td>-1.0</td>\n",
       "      <td>-1</td>\n",
       "    </tr>\n",
       "  </tbody>\n",
       "</table>\n",
       "</div>"
      ],
      "text/plain": [
       "                        date     open     high      low    close  volume  \\\n",
       "0  2023-04-07 12:13:10+00:00  1.09155  1.09155  1.09155  1.09155    -1.0   \n",
       "1  2023-04-07 12:13:20+00:00  1.09155  1.09155  1.09155  1.09155    -1.0   \n",
       "2  2023-04-07 12:13:30+00:00  1.09155  1.09155  1.09145  1.09150    -1.0   \n",
       "3  2023-04-07 12:13:40+00:00  1.09150  1.09150  1.09145  1.09145    -1.0   \n",
       "4  2023-04-07 12:13:50+00:00  1.09145  1.09145  1.09145  1.09145    -1.0   \n",
       "5  2023-04-07 12:14:00+00:00  1.09145  1.09145  1.09145  1.09145    -1.0   \n",
       "6  2023-04-07 12:14:10+00:00  1.09145  1.09150  1.09145  1.09150    -1.0   \n",
       "7  2023-04-07 12:14:20+00:00  1.09150  1.09150  1.09150  1.09150    -1.0   \n",
       "8  2023-04-07 12:14:30+00:00  1.09150  1.09155  1.09150  1.09150    -1.0   \n",
       "9  2023-04-07 12:14:40+00:00  1.09150  1.09150  1.09150  1.09150    -1.0   \n",
       "10 2023-04-07 12:14:50+00:00  1.09150  1.09150  1.09150  1.09150    -1.0   \n",
       "\n",
       "    average  barCount  \n",
       "0      -1.0        -1  \n",
       "1      -1.0        -1  \n",
       "2      -1.0        -1  \n",
       "3      -1.0        -1  \n",
       "4      -1.0        -1  \n",
       "5      -1.0        -1  \n",
       "6      -1.0        -1  \n",
       "7      -1.0        -1  \n",
       "8      -1.0        -1  \n",
       "9      -1.0        -1  \n",
       "10     -1.0        -1  "
      ]
     },
     "execution_count": 5,
     "metadata": {},
     "output_type": "execute_result"
    }
   ],
   "source": [
    "pd.DataFrame(bars)"
   ]
  },
  {
   "cell_type": "code",
   "execution_count": 6,
   "id": "42f02d7e",
   "metadata": {},
   "outputs": [],
   "source": [
    "def on_bar_update(bars, new_bar):\n",
    "    df = pd.DataFrame(bars)[['date', 'open', 'high', 'low', 'close']]\n",
    "    df.set_index('date', inplace= True)\n",
    "    clear_output(wait= True)\n",
    "    display(df)"
   ]
  },
  {
   "cell_type": "code",
   "execution_count": 7,
   "id": "ae4f026a",
   "metadata": {},
   "outputs": [],
   "source": [
    "bars = ib.reqHistoricalData(contract,\n",
    "                            endDateTime= '',\n",
    "                            durationStr= '50 S',\n",
    "                            barSizeSetting= '5 secs',\n",
    "                            whatToShow= 'MIDPOINT',\n",
    "                            useRTH= True,\n",
    "                            formatDate= 2 ,\n",
    "                            keepUpToDate= True)"
   ]
  },
  {
   "cell_type": "code",
   "execution_count": 8,
   "id": "5e6e26e2",
   "metadata": {},
   "outputs": [],
   "source": [
    "bars.updateEvent += on_bar_update #activates the function"
   ]
  },
  {
   "cell_type": "code",
   "execution_count": 9,
   "id": "6c8dbf0f",
   "metadata": {},
   "outputs": [],
   "source": [
    "bars.updateEvent -= on_bar_update #deactivates the function"
   ]
  },
  {
   "cell_type": "code",
   "execution_count": 10,
   "id": "98db38ff",
   "metadata": {},
   "outputs": [],
   "source": [
    "ib.cancelHistoricalData(bars)"
   ]
  },
  {
   "cell_type": "markdown",
   "id": "94d131df",
   "metadata": {},
   "source": [
    "# Creating a live Candlestick Chart"
   ]
  },
  {
   "cell_type": "code",
   "execution_count": 11,
   "id": "a278a144",
   "metadata": {},
   "outputs": [],
   "source": [
    "def on_bar_update(bars, new_bar):\n",
    "    plt.close()\n",
    "    plot = util.barplot(bars, title= 'EURUSD', upColor= 'green', downColor= 'red')\n",
    "    clear_output(wait= True)\n",
    "    display(plot)"
   ]
  },
  {
   "cell_type": "code",
   "execution_count": 15,
   "id": "44127b3b",
   "metadata": {},
   "outputs": [],
   "source": [
    "bars = ib.reqHistoricalData(contract,\n",
    "                            endDateTime= '',\n",
    "                            durationStr= '1000 S',\n",
    "                            barSizeSetting= '10 secs',\n",
    "                            whatToShow= 'MIDPOINT',\n",
    "                            useRTH= True,\n",
    "                            formatDate= 2 ,\n",
    "                            keepUpToDate= True)"
   ]
  },
  {
   "cell_type": "code",
   "execution_count": 16,
   "id": "4a765a67",
   "metadata": {},
   "outputs": [
    {
     "data": {
      "image/png": "[encoded data removed]",
      "text/plain": [
       "<Figure size 1000x600 with 1 Axes>"
      ]
     },
     "metadata": {},
     "output_type": "display_data"
    }
   ],
   "source": [
    "bars.updateEvent += on_bar_update #activates the function"
   ]
  },
  {
   "cell_type": "code",
   "execution_count": 18,
   "id": "5212999a",
   "metadata": {},
   "outputs": [
    {
     "name": "stderr",
     "output_type": "stream",
     "text": [
      "Error 162, reqId 18: Historical Market Data Service error message:API historical data query cancelled: 18\n"
     ]
    }
   ],
   "source": [
    "ib.cancelHistoricalData(bars)"
   ]
  },
  {
   "cell_type": "code",
   "execution_count": 19,
   "id": "50206611",
   "metadata": {},
   "outputs": [],
   "source": [
    "ib.disconnect()"
   ]
  },
  {
   "cell_type": "code",
   "execution_count": null,
   "id": "7851aac3",
   "metadata": {},
   "outputs": [],
   "source": []
  }
 ],
 "metadata": {
  "kernelspec": {
   "display_name": "Python 3 (ipykernel)",
   "language": "python",
   "name": "python3"
  },
  "language_info": {
   "codemirror_mode": {
    "name": "ipython",
    "version": 3
   },
   "file_extension": ".py",
   "mimetype": "text/x-python",
   "name": "python",
   "nbconvert_exporter": "python",
   "pygments_lexer": "ipython3",
   "version": "3.8.8"
  }
 },
 "nbformat": 4,
 "nbformat_minor": 5
}
