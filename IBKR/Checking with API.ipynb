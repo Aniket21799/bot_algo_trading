{
 "cells": [
  {
   "cell_type": "code",
   "execution_count": 1,
   "id": "9aba8e2e",
   "metadata": {},
   "outputs": [],
   "source": [
    "import pandas as pd\n",
    "from ib_insync import *\n",
    "util.startLoop() #only for jupyter IDEs"
   ]
  },
  {
   "cell_type": "code",
   "execution_count": 2,
   "id": "9b4276bb",
   "metadata": {},
   "outputs": [],
   "source": [
    "ib = IB()"
   ]
  },
  {
   "cell_type": "markdown",
   "id": "b222a592",
   "metadata": {},
   "source": [
    "# Logged in IBKR "
   ]
  },
  {
   "cell_type": "code",
   "execution_count": 3,
   "id": "e8fddbe6",
   "metadata": {},
   "outputs": [
    {
     "data": {
      "text/plain": [
       "<IB connected to 127.0.0.1:7497 clientId=1>"
      ]
     },
     "execution_count": 3,
     "metadata": {},
     "output_type": "execute_result"
    }
   ],
   "source": [
    "ib.connect()"
   ]
  },
  {
   "cell_type": "code",
   "execution_count": 8,
   "id": "2e25133d",
   "metadata": {},
   "outputs": [
    {
     "data": {
      "text/plain": [
       "Forex('EURUSD', exchange='IDEALPRO')"
      ]
     },
     "execution_count": 8,
     "metadata": {},
     "output_type": "execute_result"
    }
   ],
   "source": [
    "contract = Forex('EURUSD')\n",
    "contract"
   ]
  },
  {
   "cell_type": "code",
   "execution_count": 9,
   "id": "d4d55091",
   "metadata": {},
   "outputs": [],
   "source": [
    "data1 = ib.reqMktData(contract)"
   ]
  },
  {
   "cell_type": "code",
   "execution_count": 14,
   "id": "7b0c3f93",
   "metadata": {},
   "outputs": [
    {
     "data": {
      "text/plain": [
       "Ticker(contract=Forex('EURUSD', exchange='IDEALPRO'), time=datetime.datetime(2023, 4, 6, 9, 2, 22, 999177, tzinfo=datetime.timezone.utc), minTick=1e-05, bid=1.08987, bidSize=2500000.0, ask=1.0899, askSize=2500000.0, prevBid=1.08988, prevBidSize=250000.0, prevAsk=1.08989, prevAskSize=1000000.0, high=1.0917, low=1.08845, close=1.0907, halted=0.0, ticks=[TickData(time=datetime.datetime(2023, 4, 6, 9, 2, 22, 999177, tzinfo=datetime.timezone.utc), tickType=1, price=1.08987, size=2500000.0)])"
      ]
     },
     "execution_count": 14,
     "metadata": {},
     "output_type": "execute_result"
    }
   ],
   "source": [
    "data1    #realtime data"
   ]
  },
  {
   "cell_type": "code",
   "execution_count": 17,
   "id": "d7eb2025",
   "metadata": {},
   "outputs": [
    {
     "data": {
      "text/plain": [
       "1.089895"
      ]
     },
     "execution_count": 17,
     "metadata": {},
     "output_type": "execute_result"
    }
   ],
   "source": [
    "data1.marketPrice()"
   ]
  },
  {
   "cell_type": "code",
   "execution_count": 18,
   "id": "bba7ab55",
   "metadata": {},
   "outputs": [
    {
     "data": {
      "text/plain": [
       "datetime.datetime(2023, 4, 6, 9, 3, 36, 625273, tzinfo=datetime.timezone.utc)"
      ]
     },
     "execution_count": 18,
     "metadata": {},
     "output_type": "execute_result"
    }
   ],
   "source": [
    "data1.time"
   ]
  },
  {
   "cell_type": "code",
   "execution_count": 19,
   "id": "b5d0d372",
   "metadata": {},
   "outputs": [
    {
     "data": {
      "text/plain": [
       "Timestamp('2023-04-06 09:03:46.416101+0000', tz='UTC')"
      ]
     },
     "execution_count": 19,
     "metadata": {},
     "output_type": "execute_result"
    }
   ],
   "source": [
    "pd.to_datetime(data1.time)"
   ]
  },
  {
   "cell_type": "code",
   "execution_count": 24,
   "id": "e1b28632",
   "metadata": {},
   "outputs": [],
   "source": [
    "contract = Stock('RELIANCE', 'NSE')"
   ]
  },
  {
   "cell_type": "code",
   "execution_count": 26,
   "id": "bc5488d7",
   "metadata": {},
   "outputs": [],
   "source": [
    "data2 = ib.reqMarketDataType(3)"
   ]
  },
  {
   "cell_type": "code",
   "execution_count": 27,
   "id": "fdccad2f",
   "metadata": {},
   "outputs": [],
   "source": [
    "data2 = ib.reqMktData(contract)"
   ]
  },
  {
   "cell_type": "code",
   "execution_count": 30,
   "id": "13f466b7",
   "metadata": {},
   "outputs": [
    {
     "data": {
      "text/plain": [
       "Ticker(contract=Stock(symbol='RELIANCE', exchange='NSE'), time=datetime.datetime(2023, 4, 6, 9, 7, 8, 886969, tzinfo=datetime.timezone.utc), marketDataType=3, minTick=0.05, bid=2339.9, bidSize=417.0, ask=2339.95, askSize=7.0, last=2339.9, lastSize=2.0, prevBid=2339.95, prevBidSize=43.0, prevAsk=2340.0, prevAskSize=421.0, prevLast=2339.85, prevLastSize=250.0, volume=7109559.0, open=2318.15, high=2354.0, low=2318.15, close=2325.85)"
      ]
     },
     "execution_count": 30,
     "metadata": {},
     "output_type": "execute_result"
    }
   ],
   "source": [
    "data2"
   ]
  },
  {
   "cell_type": "code",
   "execution_count": 31,
   "id": "3d71204b",
   "metadata": {},
   "outputs": [
    {
     "data": {
      "text/plain": [
       "datetime.datetime(2023, 4, 6, 9, 7, 18, 897884, tzinfo=datetime.timezone.utc)"
      ]
     },
     "execution_count": 31,
     "metadata": {},
     "output_type": "execute_result"
    }
   ],
   "source": [
    "data2.time"
   ]
  },
  {
   "cell_type": "code",
   "execution_count": 32,
   "id": "08d40d21",
   "metadata": {},
   "outputs": [
    {
     "data": {
      "text/plain": [
       "2339.5"
      ]
     },
     "execution_count": 32,
     "metadata": {},
     "output_type": "execute_result"
    }
   ],
   "source": [
    "data2.ask"
   ]
  },
  {
   "cell_type": "code",
   "execution_count": 33,
   "id": "753848c8",
   "metadata": {},
   "outputs": [
    {
     "data": {
      "text/plain": [
       "<bound method Ticker.marketPrice of Ticker(contract=Stock(symbol='RELIANCE', exchange='NSE'), time=datetime.datetime(2023, 4, 6, 9, 9, 43, 895386, tzinfo=datetime.timezone.utc), marketDataType=3, minTick=0.05, bid=2339.65, bidSize=6.0, ask=2339.8, askSize=61.0, last=2339.8, lastSize=5.0, prevBid=2339.5, prevBidSize=185.0, prevAsk=2339.65, prevAskSize=1.0, prevLast=2339.5, prevLastSize=9.0, volume=7119886.0, open=2318.15, high=2354.0, low=2318.15, close=2325.85)>"
      ]
     },
     "execution_count": 33,
     "metadata": {},
     "output_type": "execute_result"
    }
   ],
   "source": [
    "data2.marketPrice"
   ]
  },
  {
   "cell_type": "markdown",
   "id": "1e2a5a2e",
   "metadata": {},
   "source": [
    "# Data Streaming for multiple tickers"
   ]
  },
  {
   "cell_type": "code",
   "execution_count": 35,
   "id": "11897b02",
   "metadata": {},
   "outputs": [
    {
     "name": "stdout",
     "output_type": "stream",
     "text": [
      "1.09 | 2339.48\n",
      "1.09 | 2339.48\n",
      "1.09 | 2339.35\n",
      "1.09 | 2339.35\n",
      "1.09 | 2339.35\n",
      "1.09 | 2339.35\n",
      "1.09 | 2339.35\n",
      "1.09 | 2339.35\n",
      "1.09 | 2339.35\n",
      "1.09 | 2339.35\n"
     ]
    }
   ],
   "source": [
    "for i in range(10):\n",
    "    print(round(data1.marketPrice(),2), '|',round(data2.marketPrice(),2))\n",
    "    ib.sleep(1)"
   ]
  },
  {
   "cell_type": "code",
   "execution_count": 36,
   "id": "2491f5f9",
   "metadata": {},
   "outputs": [
    {
     "data": {
      "text/plain": [
       "[ContractDetails(contract=Contract(secType='STK', conId=44652000, symbol='RELIANCE', exchange='NSE', primaryExchange='NSE', currency='INR', localSymbol='RELIANCE', tradingClass='RELIANCE'), marketName='RELIANCE', minTick=0.05, orderTypes='ACTIVETIM,AD,ADJUST,ALERT,ALLOC,AVGCOST,BASKET,BENCHPX,BOARDLOT,CASHQTY,COND,CONDORDER,DAY,DEACT,DEACTDIS,DEACTEOD,GAT,GTC,GTD,GTT,HID,IOC,LIT,LMT,MIT,MKT,MTL,NGCOMB,NONALGO,OCA,PEGBENCH,REL,RELPCTOFS,SCALE,SCALERST,SNAPMID,SNAPMKT,SNAPREL,STP,STPLMT,TRAIL,TRAILLIT,TRAILLMT,TRAILMIT,WHATIF', validExchanges='NSE', priceMagnifier=1, underConId=0, longName='RELIANCE INDUSTRIES LIMITED', contractMonth='', industry='Energy', category='Oil&Gas', subcategory='Oil Refining&Marketing', timeZoneId='Asia/Calcutta', tradingHours='20230406:0915-20230406:1530;20230407:CLOSED;20230408:CLOSED;20230409:CLOSED;20230410:0915-20230410:1530;20230411:0915-20230411:1530', liquidHours='20230406:0915-20230406:1530;20230407:CLOSED;20230408:CLOSED;20230409:CLOSED;20230410:0915-20230410:1530;20230411:0915-20230411:1530', evRule='', evMultiplier=0, mdSizeMultiplier=1, aggGroup=2147483647, underSymbol='', underSecType='', marketRuleIds='11', secIdList=[TagValue(tag='ISIN', value='INE002A01018')], realExpirationDate='', lastTradeTime='', stockType='COMMON', minSize=1.0, sizeIncrement=1.0, suggestedSizeIncrement=1.0, cusip='', ratings='', descAppend='', bondType='', couponType='', callable=False, putable=False, coupon=0, convertible=False, maturity='', issueDate='', nextOptionDate='', nextOptionType='', nextOptionPartial=False, notes='')]"
      ]
     },
     "execution_count": 36,
     "metadata": {},
     "output_type": "execute_result"
    }
   ],
   "source": [
    "cds = ib.reqContractDetails(contract)\n",
    "cds"
   ]
  },
  {
   "cell_type": "markdown",
   "id": "ed97ddb7",
   "metadata": {},
   "source": [
    "# Creating Orders"
   ]
  },
  {
   "cell_type": "code",
   "execution_count": 37,
   "id": "2d6937ef",
   "metadata": {},
   "outputs": [],
   "source": [
    "contract = Stock('RELIANCE')"
   ]
  },
  {
   "cell_type": "code",
   "execution_count": 40,
   "id": "be5cdae2",
   "metadata": {},
   "outputs": [
    {
     "data": {
      "text/plain": [
       "[Stock(conId=44652000, symbol='RELIANCE', exchange='NSE', primaryExchange='NSE', currency='INR', localSymbol='RELIANCE', tradingClass='RELIANCE')]"
      ]
     },
     "execution_count": 40,
     "metadata": {},
     "output_type": "execute_result"
    }
   ],
   "source": [
    "ib.qualifyContracts(contract)"
   ]
  },
  {
   "cell_type": "markdown",
   "id": "42a288ce",
   "metadata": {},
   "source": [
    "# Buy Order"
   ]
  },
  {
   "cell_type": "code",
   "execution_count": 41,
   "id": "c29ee950",
   "metadata": {},
   "outputs": [
    {
     "data": {
      "text/plain": [
       "MarketOrder(action='Buy', totalQuantity=1)"
      ]
     },
     "execution_count": 41,
     "metadata": {},
     "output_type": "execute_result"
    }
   ],
   "source": [
    "order = MarketOrder(action= 'Buy', totalQuantity= 1)  #defines the order with quantity\n",
    "order"
   ]
  },
  {
   "cell_type": "code",
   "execution_count": 42,
   "id": "a4116003",
   "metadata": {},
   "outputs": [
    {
     "data": {
      "text/plain": [
       "Trade(contract=Stock(conId=44652000, symbol='RELIANCE', exchange='NSE', primaryExchange='NSE', currency='INR', localSymbol='RELIANCE', tradingClass='RELIANCE'), order=MarketOrder(orderId=11, clientId=1, action='Buy', totalQuantity=1), orderStatus=OrderStatus(orderId=11, status='PendingSubmit', filled=0.0, remaining=0.0, avgFillPrice=0.0, permId=0, parentId=0, lastFillPrice=0.0, clientId=0, whyHeld='', mktCapPrice=0.0), fills=[], log=[TradeLogEntry(time=datetime.datetime(2023, 4, 6, 9, 28, 36, 331865, tzinfo=datetime.timezone.utc), status='PendingSubmit', message='', errorCode=0)], advancedError='')"
      ]
     },
     "execution_count": 42,
     "metadata": {},
     "output_type": "execute_result"
    }
   ],
   "source": [
    "trade = ib.placeOrder(contract, order)   #places the final order\n",
    "trade"
   ]
  },
  {
   "cell_type": "markdown",
   "id": "4651ba11",
   "metadata": {},
   "source": [
    "# Time Lag until Order is filled"
   ]
  },
  {
   "cell_type": "code",
   "execution_count": 43,
   "id": "98d21616",
   "metadata": {},
   "outputs": [
    {
     "data": {
      "text/plain": [
       "[TradeLogEntry(time=datetime.datetime(2023, 4, 6, 9, 28, 36, 331865, tzinfo=datetime.timezone.utc), status='PendingSubmit', message='', errorCode=0),\n",
       " TradeLogEntry(time=datetime.datetime(2023, 4, 6, 9, 28, 36, 973298, tzinfo=datetime.timezone.utc), status='Submitted', message='', errorCode=0),\n",
       " TradeLogEntry(time=datetime.datetime(2023, 4, 6, 9, 28, 36, 995242, tzinfo=datetime.timezone.utc), status='Submitted', message='Fill 1.0@2345.7', errorCode=0),\n",
       " TradeLogEntry(time=datetime.datetime(2023, 4, 6, 9, 28, 36, 997239, tzinfo=datetime.timezone.utc), status='Filled', message='', errorCode=0)]"
      ]
     },
     "execution_count": 43,
     "metadata": {},
     "output_type": "execute_result"
    }
   ],
   "source": [
    "ib.sleep(5)\n",
    "trade.log"
   ]
  },
  {
   "cell_type": "code",
   "execution_count": 44,
   "id": "ce8eb602",
   "metadata": {},
   "outputs": [
    {
     "data": {
      "text/plain": [
       "Trade(contract=Stock(conId=44652000, symbol='RELIANCE', exchange='NSE', primaryExchange='NSE', currency='INR', localSymbol='RELIANCE', tradingClass='RELIANCE'), order=MarketOrder(orderId=11, clientId=1, permId=488526789, action='Buy', totalQuantity=1.0, lmtPrice=2346.45, auxPrice=0.0), orderStatus=OrderStatus(orderId=11, status='Filled', filled=1.0, remaining=0.0, avgFillPrice=2345.7, permId=488526789, parentId=0, lastFillPrice=2345.7, clientId=1, whyHeld='', mktCapPrice=0.0), fills=[Fill(contract=Stock(conId=44652000, symbol='RELIANCE', exchange='NSE', primaryExchange='NSE', currency='INR', localSymbol='RELIANCE', tradingClass='RELIANCE'), execution=Execution(execId='0001b26c.642df43b.01.01', time=datetime.datetime(2023, 4, 6, 9, 28, 37, tzinfo=datetime.timezone.utc), acctNumber='DU7022091', exchange='NSE', side='BOT', shares=1.0, price=2345.7, permId=488526789, clientId=1, orderId=11, liquidation=0, cumQty=1.0, avgPrice=2345.7, orderRef='', evRule='', evMultiplier=0.0, modelCode='', lastLiquidity=2), commissionReport=CommissionReport(execId='0001b26c.642df43b.01.01', commission=9.856558, currency='INR', realizedPNL=0.0, yield_=0.0, yieldRedemptionDate=0), time=datetime.datetime(2023, 4, 6, 9, 28, 36, 995242, tzinfo=datetime.timezone.utc))], log=[TradeLogEntry(time=datetime.datetime(2023, 4, 6, 9, 28, 36, 331865, tzinfo=datetime.timezone.utc), status='PendingSubmit', message='', errorCode=0), TradeLogEntry(time=datetime.datetime(2023, 4, 6, 9, 28, 36, 973298, tzinfo=datetime.timezone.utc), status='Submitted', message='', errorCode=0), TradeLogEntry(time=datetime.datetime(2023, 4, 6, 9, 28, 36, 995242, tzinfo=datetime.timezone.utc), status='Submitted', message='Fill 1.0@2345.7', errorCode=0), TradeLogEntry(time=datetime.datetime(2023, 4, 6, 9, 28, 36, 997239, tzinfo=datetime.timezone.utc), status='Filled', message='', errorCode=0)], advancedError='')"
      ]
     },
     "execution_count": 44,
     "metadata": {},
     "output_type": "execute_result"
    }
   ],
   "source": [
    "trade"
   ]
  },
  {
   "cell_type": "markdown",
   "id": "3ca602af",
   "metadata": {},
   "source": [
    "# Market Sell Order"
   ]
  },
  {
   "cell_type": "code",
   "execution_count": 45,
   "id": "60dde4b6",
   "metadata": {},
   "outputs": [],
   "source": [
    "order = MarketOrder(action= 'Sell', totalQuantity= '1')"
   ]
  },
  {
   "cell_type": "code",
   "execution_count": 46,
   "id": "4521c6ec",
   "metadata": {},
   "outputs": [],
   "source": [
    "trade = ib.placeOrder(contract, order)"
   ]
  },
  {
   "cell_type": "code",
   "execution_count": 47,
   "id": "ffa9b309",
   "metadata": {},
   "outputs": [
    {
     "data": {
      "text/plain": [
       "Trade(contract=Stock(conId=44652000, symbol='RELIANCE', exchange='NSE', primaryExchange='NSE', currency='INR', localSymbol='RELIANCE', tradingClass='RELIANCE'), order=MarketOrder(orderId=12, clientId=1, permId=488526790, action='Sell', totalQuantity=1.0, lmtPrice=2346.5, auxPrice=0.0), orderStatus=OrderStatus(orderId=12, status='Submitted', filled=0.0, remaining=1.0, avgFillPrice=0.0, permId=488526790, parentId=0, lastFillPrice=0.0, clientId=1, whyHeld='', mktCapPrice=0.0), fills=[], log=[TradeLogEntry(time=datetime.datetime(2023, 4, 6, 9, 32, 48, 374147, tzinfo=datetime.timezone.utc), status='PendingSubmit', message='', errorCode=0), TradeLogEntry(time=datetime.datetime(2023, 4, 6, 9, 32, 48, 553078, tzinfo=datetime.timezone.utc), status='Submitted', message='', errorCode=0)], advancedError='')"
      ]
     },
     "execution_count": 47,
     "metadata": {},
     "output_type": "execute_result"
    }
   ],
   "source": [
    "trade"
   ]
  },
  {
   "cell_type": "code",
   "execution_count": 48,
   "id": "1b533394",
   "metadata": {},
   "outputs": [],
   "source": [
    "ib.disconnect()"
   ]
  }
 ],
 "metadata": {
  "kernelspec": {
   "display_name": "Python 3 (ipykernel)",
   "language": "python",
   "name": "python3"
  },
  "language_info": {
   "codemirror_mode": {
    "name": "ipython",
    "version": 3
   },
   "file_extension": ".py",
   "mimetype": "text/x-python",
   "name": "python",
   "nbconvert_exporter": "python",
   "pygments_lexer": "ipython3",
   "version": "3.8.8"
  }
 },
 "nbformat": 4,
 "nbformat_minor": 5
}
