{
 "cells": [
  {
   "cell_type": "code",
   "execution_count": 1,
   "id": "b262aa56",
   "metadata": {},
   "outputs": [],
   "source": [
    "import pandas as pd\n",
    "from ib_insync import *\n",
    "util.startLoop() #only for jupyter IDEs"
   ]
  },
  {
   "cell_type": "code",
   "execution_count": 2,
   "id": "6a7ad578",
   "metadata": {},
   "outputs": [],
   "source": [
    "ib = IB()"
   ]
  },
  {
   "cell_type": "code",
   "execution_count": 3,
   "id": "d23e3d24",
   "metadata": {},
   "outputs": [
    {
     "data": {
      "text/plain": [
       "<IB connected to 127.0.0.1:7497 clientId=1>"
      ]
     },
     "execution_count": 3,
     "metadata": {},
     "output_type": "execute_result"
    }
   ],
   "source": [
    "ib.connect()"
   ]
  },
  {
   "cell_type": "code",
   "execution_count": 4,
   "id": "56bafcd2",
   "metadata": {},
   "outputs": [
    {
     "data": {
      "text/plain": [
       "[]"
      ]
     },
     "execution_count": 4,
     "metadata": {},
     "output_type": "execute_result"
    }
   ],
   "source": [
    "ib.positions()"
   ]
  },
  {
   "cell_type": "code",
   "execution_count": 5,
   "id": "52861615",
   "metadata": {},
   "outputs": [
    {
     "data": {
      "text/plain": [
       "Forex('EURUSD', exchange='IDEALPRO')"
      ]
     },
     "execution_count": 5,
     "metadata": {},
     "output_type": "execute_result"
    }
   ],
   "source": [
    "contract = Forex('EURUSD')\n",
    "contract"
   ]
  },
  {
   "cell_type": "code",
   "execution_count": 6,
   "id": "a89f3bac",
   "metadata": {},
   "outputs": [
    {
     "data": {
      "text/plain": [
       "[Forex('EURUSD', conId=12087792, exchange='IDEALPRO', localSymbol='EUR.USD', tradingClass='EUR.USD')]"
      ]
     },
     "execution_count": 6,
     "metadata": {},
     "output_type": "execute_result"
    }
   ],
   "source": [
    "ib.qualifyContracts(contract)\n",
    "#to make sure the contract is unambiguous"
   ]
  },
  {
   "cell_type": "code",
   "execution_count": 7,
   "id": "5de3b3c0",
   "metadata": {},
   "outputs": [
    {
     "data": {
      "text/plain": [
       "Ticker(contract=Forex('EURUSD', conId=12087792, exchange='IDEALPRO', localSymbol='EUR.USD', tradingClass='EUR.USD'))"
      ]
     },
     "execution_count": 7,
     "metadata": {},
     "output_type": "execute_result"
    }
   ],
   "source": [
    "data = ib.reqMktData(contract) #subscibe to market data\n",
    "data"
   ]
  },
  {
   "cell_type": "code",
   "execution_count": 8,
   "id": "f0e1d580",
   "metadata": {},
   "outputs": [
    {
     "data": {
      "text/plain": [
       "nan"
      ]
     },
     "execution_count": 8,
     "metadata": {},
     "output_type": "execute_result"
    }
   ],
   "source": [
    "data.bid"
   ]
  },
  {
   "cell_type": "code",
   "execution_count": 9,
   "id": "f875351c",
   "metadata": {},
   "outputs": [
    {
     "data": {
      "text/plain": [
       "<bound method IB.cancelMktData of <IB connected to 127.0.0.1:7497 clientId=1>>"
      ]
     },
     "execution_count": 9,
     "metadata": {},
     "output_type": "execute_result"
    }
   ],
   "source": [
    "ib.cancelMktData #unsubscribe from market data"
   ]
  },
  {
   "cell_type": "code",
   "execution_count": 10,
   "id": "7ecce79e",
   "metadata": {},
   "outputs": [
    {
     "data": {
      "text/plain": [
       "Ticker(contract=Forex('EURUSD', conId=12087792, exchange='IDEALPRO', localSymbol='EUR.USD', tradingClass='EUR.USD'))"
      ]
     },
     "execution_count": 10,
     "metadata": {},
     "output_type": "execute_result"
    }
   ],
   "source": [
    "ib.reqMktData(contract)"
   ]
  },
  {
   "cell_type": "code",
   "execution_count": 11,
   "id": "39291a58",
   "metadata": {},
   "outputs": [],
   "source": [
    "ticker = ib.ticker(contract)"
   ]
  },
  {
   "cell_type": "code",
   "execution_count": 12,
   "id": "f4c12f12",
   "metadata": {},
   "outputs": [
    {
     "data": {
      "text/plain": [
       "Ticker(contract=Forex('EURUSD', conId=12087792, exchange='IDEALPRO', localSymbol='EUR.USD', tradingClass='EUR.USD'))"
      ]
     },
     "execution_count": 12,
     "metadata": {},
     "output_type": "execute_result"
    }
   ],
   "source": [
    "ticker"
   ]
  },
  {
   "cell_type": "code",
   "execution_count": 13,
   "id": "1b5b7d99",
   "metadata": {},
   "outputs": [
    {
     "data": {
      "text/plain": [
       "nan"
      ]
     },
     "execution_count": 13,
     "metadata": {},
     "output_type": "execute_result"
    }
   ],
   "source": [
    "ticker.bid"
   ]
  },
  {
   "cell_type": "markdown",
   "id": "6900acfe",
   "metadata": {},
   "source": [
    "# Streaming Tick data"
   ]
  },
  {
   "cell_type": "code",
   "execution_count": 14,
   "id": "cdd7f595",
   "metadata": {},
   "outputs": [
    {
     "data": {
      "text/plain": [
       "Ticker(contract=Forex('EURUSD', conId=12087792, exchange='IDEALPRO', localSymbol='EUR.USD', tradingClass='EUR.USD'))"
      ]
     },
     "execution_count": 14,
     "metadata": {},
     "output_type": "execute_result"
    }
   ],
   "source": [
    "ticker"
   ]
  },
  {
   "cell_type": "code",
   "execution_count": 15,
   "id": "193efe3b",
   "metadata": {},
   "outputs": [],
   "source": [
    "def onPendingTickers(tickers): #what will happen after receiving a new tick\n",
    "    print('time:{} | Bid:{} | Ask:{}'.format(ticker.time, ticker.bid, ticker.ask), end = '\\n')"
   ]
  },
  {
   "cell_type": "code",
   "execution_count": 16,
   "id": "20a16c11",
   "metadata": {},
   "outputs": [],
   "source": [
    "ib.pendingTickersEvent+= onPendingTickers   #activates the function "
   ]
  },
  {
   "cell_type": "code",
   "execution_count": 17,
   "id": "3d0137be",
   "metadata": {},
   "outputs": [],
   "source": [
    "ib.pendingTickersEvent-= onPendingTickers   #deactivates the function"
   ]
  },
  {
   "cell_type": "markdown",
   "id": "e8112bcb",
   "metadata": {},
   "source": [
    "# Streaming data for Multiple tickers"
   ]
  },
  {
   "cell_type": "code",
   "execution_count": 18,
   "id": "1c78a4f2",
   "metadata": {},
   "outputs": [],
   "source": [
    "from IPython.display import display, clear_output"
   ]
  },
  {
   "cell_type": "code",
   "execution_count": 19,
   "id": "9da79b26",
   "metadata": {},
   "outputs": [
    {
     "data": {
      "text/plain": [
       "[Forex('EURUSD', conId=12087792, exchange='IDEALPRO', localSymbol='EUR.USD', tradingClass='EUR.USD'),\n",
       " Forex('USDJPY', conId=15016059, exchange='IDEALPRO', localSymbol='USD.JPY', tradingClass='USD.JPY'),\n",
       " Forex('GBPUSD', conId=12087797, exchange='IDEALPRO', localSymbol='GBP.USD', tradingClass='GBP.USD'),\n",
       " Forex('USDCAD', conId=15016062, exchange='IDEALPRO', localSymbol='USD.CAD', tradingClass='USD.CAD'),\n",
       " Forex('AUDUSD', conId=14433401, exchange='IDEALPRO', localSymbol='AUD.USD', tradingClass='AUD.USD')]"
      ]
     },
     "execution_count": 19,
     "metadata": {},
     "output_type": "execute_result"
    }
   ],
   "source": [
    "contracts = [Forex(pair) for pair in ('EURUSD', 'USDJPY', 'GBPUSD', 'USDCAD', 'AUDUSD')]\n",
    "ib.qualifyContracts(*contracts) #checking if all the contracts are unambiguous"
   ]
  },
  {
   "cell_type": "code",
   "execution_count": 20,
   "id": "146a3f6f",
   "metadata": {},
   "outputs": [],
   "source": [
    "for c in contracts:\n",
    "    ib.reqMktData(c)"
   ]
  },
  {
   "cell_type": "code",
   "execution_count": 22,
   "id": "7eab4630",
   "metadata": {},
   "outputs": [
    {
     "data": {
      "text/html": [
       "<div>\n",
       "<style scoped>\n",
       "    .dataframe tbody tr th:only-of-type {\n",
       "        vertical-align: middle;\n",
       "    }\n",
       "\n",
       "    .dataframe tbody tr th {\n",
       "        vertical-align: top;\n",
       "    }\n",
       "\n",
       "    .dataframe thead th {\n",
       "        text-align: right;\n",
       "    }\n",
       "</style>\n",
       "<table border=\"1\" class=\"dataframe\">\n",
       "  <thead>\n",
       "    <tr style=\"text-align: right;\">\n",
       "      <th></th>\n",
       "      <th>bidsize</th>\n",
       "      <th>bid</th>\n",
       "      <th>ask</th>\n",
       "      <th>asksize</th>\n",
       "      <th>high</th>\n",
       "      <th>low</th>\n",
       "      <th>close</th>\n",
       "    </tr>\n",
       "  </thead>\n",
       "  <tbody>\n",
       "    <tr>\n",
       "      <th>EURUSD</th>\n",
       "      <td>NaN</td>\n",
       "      <td>NaN</td>\n",
       "      <td>NaN</td>\n",
       "      <td>NaN</td>\n",
       "      <td>NaN</td>\n",
       "      <td>NaN</td>\n",
       "      <td>NaN</td>\n",
       "    </tr>\n",
       "    <tr>\n",
       "      <th>USDJPY</th>\n",
       "      <td>NaN</td>\n",
       "      <td>NaN</td>\n",
       "      <td>NaN</td>\n",
       "      <td>NaN</td>\n",
       "      <td>NaN</td>\n",
       "      <td>NaN</td>\n",
       "      <td>NaN</td>\n",
       "    </tr>\n",
       "    <tr>\n",
       "      <th>GBPUSD</th>\n",
       "      <td>NaN</td>\n",
       "      <td>NaN</td>\n",
       "      <td>NaN</td>\n",
       "      <td>NaN</td>\n",
       "      <td>NaN</td>\n",
       "      <td>NaN</td>\n",
       "      <td>NaN</td>\n",
       "    </tr>\n",
       "    <tr>\n",
       "      <th>USDCAD</th>\n",
       "      <td>NaN</td>\n",
       "      <td>NaN</td>\n",
       "      <td>NaN</td>\n",
       "      <td>NaN</td>\n",
       "      <td>NaN</td>\n",
       "      <td>NaN</td>\n",
       "      <td>NaN</td>\n",
       "    </tr>\n",
       "    <tr>\n",
       "      <th>AUDUSD</th>\n",
       "      <td>NaN</td>\n",
       "      <td>NaN</td>\n",
       "      <td>NaN</td>\n",
       "      <td>NaN</td>\n",
       "      <td>NaN</td>\n",
       "      <td>NaN</td>\n",
       "      <td>NaN</td>\n",
       "    </tr>\n",
       "  </tbody>\n",
       "</table>\n",
       "</div>"
      ],
      "text/plain": [
       "       bidsize  bid  ask asksize high  low close\n",
       "EURUSD     NaN  NaN  NaN     NaN  NaN  NaN   NaN\n",
       "USDJPY     NaN  NaN  NaN     NaN  NaN  NaN   NaN\n",
       "GBPUSD     NaN  NaN  NaN     NaN  NaN  NaN   NaN\n",
       "USDCAD     NaN  NaN  NaN     NaN  NaN  NaN   NaN\n",
       "AUDUSD     NaN  NaN  NaN     NaN  NaN  NaN   NaN"
      ]
     },
     "execution_count": 22,
     "metadata": {},
     "output_type": "execute_result"
    }
   ],
   "source": [
    "df = pd.DataFrame(index= [c.pair() for c in contracts],\n",
    "                 columns= ['bidsize', 'bid', 'ask', 'asksize', 'high', 'low', 'close'])\n",
    "df"
   ]
  },
  {
   "cell_type": "code",
   "execution_count": 26,
   "id": "30ad62da",
   "metadata": {},
   "outputs": [],
   "source": [
    "def onPendinggticker(tickers):\n",
    "    for t in tickers:\n",
    "        df.loc[t.contract.pair()] = (\n",
    "        t.bidSize, t.bid, t.ask, t.askSize, t.high, t.low, t.close)\n",
    "        clear_output(wait = True)\n",
    "    display(df)"
   ]
  },
  {
   "cell_type": "code",
   "execution_count": 29,
   "id": "80fee323",
   "metadata": {},
   "outputs": [
    {
     "data": {
      "text/html": [
       "<div>\n",
       "<style scoped>\n",
       "    .dataframe tbody tr th:only-of-type {\n",
       "        vertical-align: middle;\n",
       "    }\n",
       "\n",
       "    .dataframe tbody tr th {\n",
       "        vertical-align: top;\n",
       "    }\n",
       "\n",
       "    .dataframe thead th {\n",
       "        text-align: right;\n",
       "    }\n",
       "</style>\n",
       "<table border=\"1\" class=\"dataframe\">\n",
       "  <thead>\n",
       "    <tr style=\"text-align: right;\">\n",
       "      <th></th>\n",
       "      <th>bidsize</th>\n",
       "      <th>bid</th>\n",
       "      <th>ask</th>\n",
       "      <th>asksize</th>\n",
       "      <th>high</th>\n",
       "      <th>low</th>\n",
       "      <th>close</th>\n",
       "    </tr>\n",
       "  </thead>\n",
       "  <tbody>\n",
       "    <tr>\n",
       "      <th>EURUSD</th>\n",
       "      <td>1000000.0</td>\n",
       "      <td>1.0905</td>\n",
       "      <td>1.09052</td>\n",
       "      <td>2000000.0</td>\n",
       "      <td>1.09195</td>\n",
       "      <td>1.08845</td>\n",
       "      <td>1.0907</td>\n",
       "    </tr>\n",
       "    <tr>\n",
       "      <th>USDJPY</th>\n",
       "      <td>2500000.0</td>\n",
       "      <td>131.401</td>\n",
       "      <td>131.407</td>\n",
       "      <td>1500000.0</td>\n",
       "      <td>131.575</td>\n",
       "      <td>130.775</td>\n",
       "      <td>131.32</td>\n",
       "    </tr>\n",
       "    <tr>\n",
       "      <th>GBPUSD</th>\n",
       "      <td>3000000.0</td>\n",
       "      <td>1.24626</td>\n",
       "      <td>1.24631</td>\n",
       "      <td>1000000.0</td>\n",
       "      <td>1.2487</td>\n",
       "      <td>1.2437</td>\n",
       "      <td>1.2462</td>\n",
       "    </tr>\n",
       "    <tr>\n",
       "      <th>USDCAD</th>\n",
       "      <td>500000.0</td>\n",
       "      <td>1.34741</td>\n",
       "      <td>1.34744</td>\n",
       "      <td>3000000.0</td>\n",
       "      <td>1.34895</td>\n",
       "      <td>1.3447</td>\n",
       "      <td>1.3457</td>\n",
       "    </tr>\n",
       "    <tr>\n",
       "      <th>AUDUSD</th>\n",
       "      <td>500000.0</td>\n",
       "      <td>0.66878</td>\n",
       "      <td>0.6688</td>\n",
       "      <td>1000000.0</td>\n",
       "      <td>0.67255</td>\n",
       "      <td>0.66845</td>\n",
       "      <td>0.67215</td>\n",
       "    </tr>\n",
       "  </tbody>\n",
       "</table>\n",
       "</div>"
      ],
      "text/plain": [
       "          bidsize      bid      ask    asksize     high      low    close\n",
       "EURUSD  1000000.0   1.0905  1.09052  2000000.0  1.09195  1.08845   1.0907\n",
       "USDJPY  2500000.0  131.401  131.407  1500000.0  131.575  130.775   131.32\n",
       "GBPUSD  3000000.0  1.24626  1.24631  1000000.0   1.2487   1.2437   1.2462\n",
       "USDCAD   500000.0  1.34741  1.34744  3000000.0  1.34895   1.3447   1.3457\n",
       "AUDUSD   500000.0  0.66878   0.6688  1000000.0  0.67255  0.66845  0.67215"
      ]
     },
     "metadata": {},
     "output_type": "display_data"
    }
   ],
   "source": [
    "ib.pendingTickersEvent+= onPendinggticker #activates the function"
   ]
  },
  {
   "cell_type": "code",
   "execution_count": 30,
   "id": "b50ea2c3",
   "metadata": {},
   "outputs": [],
   "source": [
    "ib.pendingTickersEvent -= onPendinggticker # deactivates the function"
   ]
  },
  {
   "cell_type": "code",
   "execution_count": 31,
   "id": "180efbe1",
   "metadata": {},
   "outputs": [],
   "source": [
    "for c in contracts:\n",
    "    ib.cancelMktData(c)"
   ]
  },
  {
   "cell_type": "code",
   "execution_count": 32,
   "id": "b3317905",
   "metadata": {},
   "outputs": [],
   "source": [
    "ib.disconnect()"
   ]
  },
  {
   "cell_type": "code",
   "execution_count": null,
   "id": "c718479c",
   "metadata": {},
   "outputs": [],
   "source": []
  }
 ],
 "metadata": {
  "kernelspec": {
   "display_name": "Python 3 (ipykernel)",
   "language": "python",
   "name": "python3"
  },
  "language_info": {
   "codemirror_mode": {
    "name": "ipython",
    "version": 3
   },
   "file_extension": ".py",
   "mimetype": "text/x-python",
   "name": "python",
   "nbconvert_exporter": "python",
   "pygments_lexer": "ipython3",
   "version": "3.8.8"
  }
 },
 "nbformat": 4,
 "nbformat_minor": 5
}
