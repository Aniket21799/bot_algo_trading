{
 "cells": [
  {
   "cell_type": "code",
   "execution_count": 1,
   "id": "f45a9170",
   "metadata": {},
   "outputs": [],
   "source": [
    "import pandas as pd\n",
    "import numpy as np\n",
    "import matplotlib.pyplot as plt"
   ]
  },
  {
   "cell_type": "code",
   "execution_count": 3,
   "id": "e4b22129",
   "metadata": {},
   "outputs": [],
   "source": [
    "data = pd.read_csv('test_set.csv', parse_dates= ['time'], index_col= 'time')"
   ]
  },
  {
   "cell_type": "code",
   "execution_count": 4,
   "id": "7862f8cb",
   "metadata": {
    "scrolled": true
   },
   "outputs": [
    {
     "data": {
      "text/html": [
       "<div>\n",
       "<style scoped>\n",
       "    .dataframe tbody tr th:only-of-type {\n",
       "        vertical-align: middle;\n",
       "    }\n",
       "\n",
       "    .dataframe tbody tr th {\n",
       "        vertical-align: top;\n",
       "    }\n",
       "\n",
       "    .dataframe thead th {\n",
       "        text-align: right;\n",
       "    }\n",
       "</style>\n",
       "<table border=\"1\" class=\"dataframe\">\n",
       "  <thead>\n",
       "    <tr style=\"text-align: right;\">\n",
       "      <th></th>\n",
       "      <th>price</th>\n",
       "    </tr>\n",
       "    <tr>\n",
       "      <th>time</th>\n",
       "      <th></th>\n",
       "    </tr>\n",
       "  </thead>\n",
       "  <tbody>\n",
       "    <tr>\n",
       "      <th>2020-01-01 22:00:00+00:00</th>\n",
       "      <td>1.121325</td>\n",
       "    </tr>\n",
       "    <tr>\n",
       "      <th>2020-01-01 22:05:00+00:00</th>\n",
       "      <td>1.121250</td>\n",
       "    </tr>\n",
       "    <tr>\n",
       "      <th>2020-01-01 22:10:00+00:00</th>\n",
       "      <td>1.121250</td>\n",
       "    </tr>\n",
       "    <tr>\n",
       "      <th>2020-01-01 22:15:00+00:00</th>\n",
       "      <td>1.121460</td>\n",
       "    </tr>\n",
       "    <tr>\n",
       "      <th>2020-01-01 22:20:00+00:00</th>\n",
       "      <td>1.121540</td>\n",
       "    </tr>\n",
       "    <tr>\n",
       "      <th>...</th>\n",
       "      <td>...</td>\n",
       "    </tr>\n",
       "    <tr>\n",
       "      <th>2020-08-30 23:35:00+00:00</th>\n",
       "      <td>1.190895</td>\n",
       "    </tr>\n",
       "    <tr>\n",
       "      <th>2020-08-30 23:40:00+00:00</th>\n",
       "      <td>1.191240</td>\n",
       "    </tr>\n",
       "    <tr>\n",
       "      <th>2020-08-30 23:45:00+00:00</th>\n",
       "      <td>1.191515</td>\n",
       "    </tr>\n",
       "    <tr>\n",
       "      <th>2020-08-30 23:50:00+00:00</th>\n",
       "      <td>1.191685</td>\n",
       "    </tr>\n",
       "    <tr>\n",
       "      <th>2020-08-30 23:55:00+00:00</th>\n",
       "      <td>1.191715</td>\n",
       "    </tr>\n",
       "  </tbody>\n",
       "</table>\n",
       "<p>49367 rows × 1 columns</p>\n",
       "</div>"
      ],
      "text/plain": [
       "                              price\n",
       "time                               \n",
       "2020-01-01 22:00:00+00:00  1.121325\n",
       "2020-01-01 22:05:00+00:00  1.121250\n",
       "2020-01-01 22:10:00+00:00  1.121250\n",
       "2020-01-01 22:15:00+00:00  1.121460\n",
       "2020-01-01 22:20:00+00:00  1.121540\n",
       "...                             ...\n",
       "2020-08-30 23:35:00+00:00  1.190895\n",
       "2020-08-30 23:40:00+00:00  1.191240\n",
       "2020-08-30 23:45:00+00:00  1.191515\n",
       "2020-08-30 23:50:00+00:00  1.191685\n",
       "2020-08-30 23:55:00+00:00  1.191715\n",
       "\n",
       "[49367 rows x 1 columns]"
      ]
     },
     "execution_count": 4,
     "metadata": {},
     "output_type": "execute_result"
    }
   ],
   "source": [
    "data"
   ]
  },
  {
   "cell_type": "code",
   "execution_count": 7,
   "id": "3fdb6b04",
   "metadata": {},
   "outputs": [],
   "source": [
    "data['returns'] = np.log(data.div(data.shift(1)))"
   ]
  },
  {
   "cell_type": "code",
   "execution_count": 8,
   "id": "43848196",
   "metadata": {},
   "outputs": [],
   "source": [
    "lags = 5\n",
    "cols = []\n",
    "for lag in range(1, lags+1):\n",
    "    col = 'lag{}'.format(lag)\n",
    "    data[col] = data.returns.shift(lag)\n",
    "    cols.append(col)\n",
    "data.dropna(inplace= True)"
   ]
  },
  {
   "cell_type": "code",
   "execution_count": 9,
   "id": "431a6823",
   "metadata": {},
   "outputs": [],
   "source": [
    "from sklearn.linear_model import LinearRegression"
   ]
  },
  {
   "cell_type": "code",
   "execution_count": 10,
   "id": "a56e9634",
   "metadata": {},
   "outputs": [],
   "source": [
    "lm = LinearRegression(fit_intercept= True)"
   ]
  },
  {
   "cell_type": "code",
   "execution_count": 12,
   "id": "b6ea2263",
   "metadata": {},
   "outputs": [
    {
     "data": {
      "text/plain": [
       "LinearRegression()"
      ]
     },
     "execution_count": 12,
     "metadata": {},
     "output_type": "execute_result"
    }
   ],
   "source": [
    "lm.fit(data[cols], data.returns)"
   ]
  },
  {
   "cell_type": "code",
   "execution_count": 14,
   "id": "1e15b1ee",
   "metadata": {},
   "outputs": [],
   "source": [
    "import warnings\n",
    "warnings.filterwarnings('ignore')"
   ]
  },
  {
   "cell_type": "code",
   "execution_count": 15,
   "id": "0dbf07aa",
   "metadata": {},
   "outputs": [],
   "source": [
    "data['predictions'] = lm.predict(data[cols].values)"
   ]
  },
  {
   "cell_type": "code",
   "execution_count": 16,
   "id": "4aa5db16",
   "metadata": {},
   "outputs": [],
   "source": [
    "data.predictions = np.sign(data.predictions)"
   ]
  },
  {
   "cell_type": "code",
   "execution_count": 17,
   "id": "a21701db",
   "metadata": {},
   "outputs": [
    {
     "data": {
      "text/plain": [
       " 1.0    28311\n",
       "-1.0    21050\n",
       "Name: predictions, dtype: int64"
      ]
     },
     "execution_count": 17,
     "metadata": {},
     "output_type": "execute_result"
    }
   ],
   "source": [
    "data.predictions.value_counts()"
   ]
  },
  {
   "cell_type": "code",
   "execution_count": 18,
   "id": "883caa02",
   "metadata": {},
   "outputs": [
    {
     "data": {
      "text/plain": [
       " 1.0    25172\n",
       "-1.0    23577\n",
       " 0.0      612\n",
       "dtype: int64"
      ]
     },
     "execution_count": 18,
     "metadata": {},
     "output_type": "execute_result"
    }
   ],
   "source": [
    "hits = np.sign(data.predictions * data.returns).value_counts()\n",
    "hits"
   ]
  },
  {
   "cell_type": "code",
   "execution_count": 19,
   "id": "6012a8bb",
   "metadata": {},
   "outputs": [
    {
     "data": {
      "text/plain": [
       "0.5099572537023156"
      ]
     },
     "execution_count": 19,
     "metadata": {},
     "output_type": "execute_result"
    }
   ],
   "source": [
    "hit_ratio = hits[1.0]/sum(hits)\n",
    "hit_ratio # percentage of correctly predicted market returns"
   ]
  },
  {
   "cell_type": "code",
   "execution_count": 20,
   "id": "8e0e1ce6",
   "metadata": {},
   "outputs": [],
   "source": [
    "data['strategy'] = data.predictions * data.returns"
   ]
  },
  {
   "cell_type": "code",
   "execution_count": 21,
   "id": "d9e02d7d",
   "metadata": {},
   "outputs": [],
   "source": [
    "data[\"creturns\"] = data[\"returns\"].cumsum().apply(np.exp)\n",
    "data[\"cstrategy\"] = data[\"strategy\"].cumsum().apply(np.exp)"
   ]
  },
  {
   "cell_type": "code",
   "execution_count": 22,
   "id": "735568da",
   "metadata": {},
   "outputs": [
    {
     "data": {
      "image/png": "[encoded data removed]",
      "text/plain": [
       "<Figure size 1200x800 with 1 Axes>"
      ]
     },
     "metadata": {},
     "output_type": "display_data"
    }
   ],
   "source": [
    "data[[\"creturns\", \"cstrategy\"]].plot(figsize = (12 , 8))\n",
    "plt.show()"
   ]
  },
  {
   "cell_type": "code",
   "execution_count": 23,
   "id": "b52a3f17",
   "metadata": {},
   "outputs": [],
   "source": [
    "data[\"trades\"] = data.predictions.diff().fillna(0).abs()"
   ]
  },
  {
   "cell_type": "code",
   "execution_count": 24,
   "id": "eba65737",
   "metadata": {},
   "outputs": [
    {
     "data": {
      "text/plain": [
       "0.0    32515\n",
       "2.0    16846\n",
       "Name: trades, dtype: int64"
      ]
     },
     "execution_count": 24,
     "metadata": {},
     "output_type": "execute_result"
    }
   ],
   "source": [
    "data.trades.value_counts()"
   ]
  },
  {
   "cell_type": "code",
   "execution_count": null,
   "id": "17337e76",
   "metadata": {},
   "outputs": [],
   "source": []
  }
 ],
 "metadata": {
  "kernelspec": {
   "display_name": "Python 3 (ipykernel)",
   "language": "python",
   "name": "python3"
  },
  "language_info": {
   "codemirror_mode": {
    "name": "ipython",
    "version": 3
   },
   "file_extension": ".py",
   "mimetype": "text/x-python",
   "name": "python",
   "nbconvert_exporter": "python",
   "pygments_lexer": "ipython3",
   "version": "3.8.8"
  }
 },
 "nbformat": 4,
 "nbformat_minor": 5
}
