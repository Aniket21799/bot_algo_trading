{
 "cells": [
  {
   "cell_type": "code",
   "execution_count": 1,
   "id": "e91f4836",
   "metadata": {},
   "outputs": [],
   "source": [
    "import pandas as pd\n",
    "import numpy as np\n",
    "import matplotlib.pyplot as plt"
   ]
  },
  {
   "cell_type": "code",
   "execution_count": 2,
   "id": "41aa9b1f",
   "metadata": {},
   "outputs": [],
   "source": [
    "data = pd.read_csv('five_minute.csv', parse_dates= ['time'], index_col= 'time')"
   ]
  },
  {
   "cell_type": "code",
   "execution_count": 3,
   "id": "17a29b87",
   "metadata": {},
   "outputs": [
    {
     "name": "stdout",
     "output_type": "stream",
     "text": [
      "<class 'pandas.core.frame.DataFrame'>\n",
      "DatetimeIndex: 73720 entries, 2019-01-01 22:00:00+00:00 to 2019-12-30 23:55:00+00:00\n",
      "Data columns (total 1 columns):\n",
      " #   Column  Non-Null Count  Dtype  \n",
      "---  ------  --------------  -----  \n",
      " 0   price   73720 non-null  float64\n",
      "dtypes: float64(1)\n",
      "memory usage: 1.1 MB\n"
     ]
    }
   ],
   "source": [
    "data.info()"
   ]
  },
  {
   "cell_type": "code",
   "execution_count": 4,
   "id": "725f4d74",
   "metadata": {},
   "outputs": [],
   "source": [
    "data.dropna(inplace=True)"
   ]
  },
  {
   "cell_type": "code",
   "execution_count": 5,
   "id": "176a8986",
   "metadata": {},
   "outputs": [],
   "source": [
    "data['returns'] = np.log(data.div(data.shift(1)))"
   ]
  },
  {
   "cell_type": "code",
   "execution_count": 6,
   "id": "8b50d04b",
   "metadata": {},
   "outputs": [],
   "source": [
    "lags = 5"
   ]
  },
  {
   "cell_type": "code",
   "execution_count": 7,
   "id": "3856a89d",
   "metadata": {},
   "outputs": [],
   "source": [
    "cols = []\n",
    "for lag in range(1, lags+1):\n",
    "    col = 'lag{}'.format(lag)\n",
    "    data[col] = data.returns.shift(lag)\n",
    "    cols.append(col)\n",
    "data.dropna(inplace= True)"
   ]
  },
  {
   "cell_type": "code",
   "execution_count": 8,
   "id": "0829c769",
   "metadata": {},
   "outputs": [
    {
     "data": {
      "text/plain": [
       "['lag1', 'lag2', 'lag3', 'lag4', 'lag5']"
      ]
     },
     "execution_count": 8,
     "metadata": {},
     "output_type": "execute_result"
    }
   ],
   "source": [
    "cols"
   ]
  },
  {
   "cell_type": "code",
   "execution_count": 9,
   "id": "9f12f31d",
   "metadata": {},
   "outputs": [],
   "source": [
    "from sklearn.linear_model import LinearRegression"
   ]
  },
  {
   "cell_type": "code",
   "execution_count": 10,
   "id": "2f3f5949",
   "metadata": {},
   "outputs": [],
   "source": [
    "lm = LinearRegression(fit_intercept= True)"
   ]
  },
  {
   "cell_type": "code",
   "execution_count": 11,
   "id": "c0fa2102",
   "metadata": {},
   "outputs": [
    {
     "data": {
      "text/plain": [
       "LinearRegression()"
      ]
     },
     "execution_count": 11,
     "metadata": {},
     "output_type": "execute_result"
    }
   ],
   "source": [
    "lm.fit(data[cols], data.returns)"
   ]
  },
  {
   "cell_type": "code",
   "execution_count": 12,
   "id": "68116ac3",
   "metadata": {},
   "outputs": [
    {
     "data": {
      "text/plain": [
       "array([-0.03358358, -0.00243139,  0.00365238, -0.00366896, -0.00360391])"
      ]
     },
     "execution_count": 12,
     "metadata": {},
     "output_type": "execute_result"
    }
   ],
   "source": [
    "lm.coef_ #slope"
   ]
  },
  {
   "cell_type": "code",
   "execution_count": 13,
   "id": "30a39f18",
   "metadata": {},
   "outputs": [
    {
     "data": {
      "text/plain": [
       "-3.2782924419950654e-07"
      ]
     },
     "execution_count": 13,
     "metadata": {},
     "output_type": "execute_result"
    }
   ],
   "source": [
    "lm.intercept_"
   ]
  },
  {
   "cell_type": "code",
   "execution_count": 14,
   "id": "a3b00b66",
   "metadata": {},
   "outputs": [],
   "source": [
    "import warnings\n",
    "warnings.filterwarnings('ignore')"
   ]
  },
  {
   "cell_type": "code",
   "execution_count": 15,
   "id": "9ca708fa",
   "metadata": {},
   "outputs": [],
   "source": [
    "data['predictions'] = lm.predict(data[cols].values)"
   ]
  },
  {
   "cell_type": "code",
   "execution_count": 16,
   "id": "4b396839",
   "metadata": {},
   "outputs": [],
   "source": [
    "data.predictions = np.sign(data.predictions)"
   ]
  },
  {
   "cell_type": "code",
   "execution_count": 17,
   "id": "f7e0b786",
   "metadata": {},
   "outputs": [
    {
     "data": {
      "text/plain": [
       "-1.0    39610\n",
       " 1.0    34104\n",
       "Name: predictions, dtype: int64"
      ]
     },
     "execution_count": 17,
     "metadata": {},
     "output_type": "execute_result"
    }
   ],
   "source": [
    "data.predictions.value_counts()"
   ]
  },
  {
   "cell_type": "code",
   "execution_count": 18,
   "id": "dd8fc1fd",
   "metadata": {},
   "outputs": [
    {
     "data": {
      "text/html": [
       "<div>\n",
       "<style scoped>\n",
       "    .dataframe tbody tr th:only-of-type {\n",
       "        vertical-align: middle;\n",
       "    }\n",
       "\n",
       "    .dataframe tbody tr th {\n",
       "        vertical-align: top;\n",
       "    }\n",
       "\n",
       "    .dataframe thead th {\n",
       "        text-align: right;\n",
       "    }\n",
       "</style>\n",
       "<table border=\"1\" class=\"dataframe\">\n",
       "  <thead>\n",
       "    <tr style=\"text-align: right;\">\n",
       "      <th></th>\n",
       "      <th>price</th>\n",
       "      <th>returns</th>\n",
       "      <th>lag1</th>\n",
       "      <th>lag2</th>\n",
       "      <th>lag3</th>\n",
       "      <th>lag4</th>\n",
       "      <th>lag5</th>\n",
       "      <th>predictions</th>\n",
       "    </tr>\n",
       "    <tr>\n",
       "      <th>time</th>\n",
       "      <th></th>\n",
       "      <th></th>\n",
       "      <th></th>\n",
       "      <th></th>\n",
       "      <th></th>\n",
       "      <th></th>\n",
       "      <th></th>\n",
       "      <th></th>\n",
       "    </tr>\n",
       "  </thead>\n",
       "  <tbody>\n",
       "    <tr>\n",
       "      <th>2019-01-01 22:30:00+00:00</th>\n",
       "      <td>1.146455</td>\n",
       "      <td>-0.000017</td>\n",
       "      <td>-0.000048</td>\n",
       "      <td>0.000183</td>\n",
       "      <td>0.000000</td>\n",
       "      <td>-0.000026</td>\n",
       "      <td>-0.000201</td>\n",
       "      <td>1.0</td>\n",
       "    </tr>\n",
       "    <tr>\n",
       "      <th>2019-01-01 22:35:00+00:00</th>\n",
       "      <td>1.146455</td>\n",
       "      <td>0.000000</td>\n",
       "      <td>-0.000017</td>\n",
       "      <td>-0.000048</td>\n",
       "      <td>0.000183</td>\n",
       "      <td>0.000000</td>\n",
       "      <td>-0.000026</td>\n",
       "      <td>1.0</td>\n",
       "    </tr>\n",
       "    <tr>\n",
       "      <th>2019-01-01 22:40:00+00:00</th>\n",
       "      <td>1.146370</td>\n",
       "      <td>-0.000074</td>\n",
       "      <td>0.000000</td>\n",
       "      <td>-0.000017</td>\n",
       "      <td>-0.000048</td>\n",
       "      <td>0.000183</td>\n",
       "      <td>0.000000</td>\n",
       "      <td>-1.0</td>\n",
       "    </tr>\n",
       "    <tr>\n",
       "      <th>2019-01-01 22:45:00+00:00</th>\n",
       "      <td>1.146315</td>\n",
       "      <td>-0.000048</td>\n",
       "      <td>-0.000074</td>\n",
       "      <td>0.000000</td>\n",
       "      <td>-0.000017</td>\n",
       "      <td>-0.000048</td>\n",
       "      <td>0.000183</td>\n",
       "      <td>1.0</td>\n",
       "    </tr>\n",
       "    <tr>\n",
       "      <th>2019-01-01 22:50:00+00:00</th>\n",
       "      <td>1.146475</td>\n",
       "      <td>0.000140</td>\n",
       "      <td>-0.000048</td>\n",
       "      <td>-0.000074</td>\n",
       "      <td>0.000000</td>\n",
       "      <td>-0.000017</td>\n",
       "      <td>-0.000048</td>\n",
       "      <td>1.0</td>\n",
       "    </tr>\n",
       "    <tr>\n",
       "      <th>...</th>\n",
       "      <td>...</td>\n",
       "      <td>...</td>\n",
       "      <td>...</td>\n",
       "      <td>...</td>\n",
       "      <td>...</td>\n",
       "      <td>...</td>\n",
       "      <td>...</td>\n",
       "      <td>...</td>\n",
       "    </tr>\n",
       "    <tr>\n",
       "      <th>2019-12-30 23:35:00+00:00</th>\n",
       "      <td>1.120180</td>\n",
       "      <td>-0.000004</td>\n",
       "      <td>-0.000112</td>\n",
       "      <td>-0.000018</td>\n",
       "      <td>0.000022</td>\n",
       "      <td>-0.000004</td>\n",
       "      <td>0.000089</td>\n",
       "      <td>1.0</td>\n",
       "    </tr>\n",
       "    <tr>\n",
       "      <th>2019-12-30 23:40:00+00:00</th>\n",
       "      <td>1.120210</td>\n",
       "      <td>0.000027</td>\n",
       "      <td>-0.000004</td>\n",
       "      <td>-0.000112</td>\n",
       "      <td>-0.000018</td>\n",
       "      <td>0.000022</td>\n",
       "      <td>-0.000004</td>\n",
       "      <td>-1.0</td>\n",
       "    </tr>\n",
       "    <tr>\n",
       "      <th>2019-12-30 23:45:00+00:00</th>\n",
       "      <td>1.120295</td>\n",
       "      <td>0.000076</td>\n",
       "      <td>0.000027</td>\n",
       "      <td>-0.000004</td>\n",
       "      <td>-0.000112</td>\n",
       "      <td>-0.000018</td>\n",
       "      <td>0.000022</td>\n",
       "      <td>-1.0</td>\n",
       "    </tr>\n",
       "    <tr>\n",
       "      <th>2019-12-30 23:50:00+00:00</th>\n",
       "      <td>1.120275</td>\n",
       "      <td>-0.000018</td>\n",
       "      <td>0.000076</td>\n",
       "      <td>0.000027</td>\n",
       "      <td>-0.000004</td>\n",
       "      <td>-0.000112</td>\n",
       "      <td>-0.000018</td>\n",
       "      <td>-1.0</td>\n",
       "    </tr>\n",
       "    <tr>\n",
       "      <th>2019-12-30 23:55:00+00:00</th>\n",
       "      <td>1.120130</td>\n",
       "      <td>-0.000129</td>\n",
       "      <td>-0.000018</td>\n",
       "      <td>0.000076</td>\n",
       "      <td>0.000027</td>\n",
       "      <td>-0.000004</td>\n",
       "      <td>-0.000112</td>\n",
       "      <td>1.0</td>\n",
       "    </tr>\n",
       "  </tbody>\n",
       "</table>\n",
       "<p>73714 rows × 8 columns</p>\n",
       "</div>"
      ],
      "text/plain": [
       "                              price   returns      lag1      lag2      lag3  \\\n",
       "time                                                                          \n",
       "2019-01-01 22:30:00+00:00  1.146455 -0.000017 -0.000048  0.000183  0.000000   \n",
       "2019-01-01 22:35:00+00:00  1.146455  0.000000 -0.000017 -0.000048  0.000183   \n",
       "2019-01-01 22:40:00+00:00  1.146370 -0.000074  0.000000 -0.000017 -0.000048   \n",
       "2019-01-01 22:45:00+00:00  1.146315 -0.000048 -0.000074  0.000000 -0.000017   \n",
       "2019-01-01 22:50:00+00:00  1.146475  0.000140 -0.000048 -0.000074  0.000000   \n",
       "...                             ...       ...       ...       ...       ...   \n",
       "2019-12-30 23:35:00+00:00  1.120180 -0.000004 -0.000112 -0.000018  0.000022   \n",
       "2019-12-30 23:40:00+00:00  1.120210  0.000027 -0.000004 -0.000112 -0.000018   \n",
       "2019-12-30 23:45:00+00:00  1.120295  0.000076  0.000027 -0.000004 -0.000112   \n",
       "2019-12-30 23:50:00+00:00  1.120275 -0.000018  0.000076  0.000027 -0.000004   \n",
       "2019-12-30 23:55:00+00:00  1.120130 -0.000129 -0.000018  0.000076  0.000027   \n",
       "\n",
       "                               lag4      lag5  predictions  \n",
       "time                                                        \n",
       "2019-01-01 22:30:00+00:00 -0.000026 -0.000201          1.0  \n",
       "2019-01-01 22:35:00+00:00  0.000000 -0.000026          1.0  \n",
       "2019-01-01 22:40:00+00:00  0.000183  0.000000         -1.0  \n",
       "2019-01-01 22:45:00+00:00 -0.000048  0.000183          1.0  \n",
       "2019-01-01 22:50:00+00:00 -0.000017 -0.000048          1.0  \n",
       "...                             ...       ...          ...  \n",
       "2019-12-30 23:35:00+00:00 -0.000004  0.000089          1.0  \n",
       "2019-12-30 23:40:00+00:00  0.000022 -0.000004         -1.0  \n",
       "2019-12-30 23:45:00+00:00 -0.000018  0.000022         -1.0  \n",
       "2019-12-30 23:50:00+00:00 -0.000112 -0.000018         -1.0  \n",
       "2019-12-30 23:55:00+00:00 -0.000004 -0.000112          1.0  \n",
       "\n",
       "[73714 rows x 8 columns]"
      ]
     },
     "execution_count": 18,
     "metadata": {},
     "output_type": "execute_result"
    }
   ],
   "source": [
    "data"
   ]
  },
  {
   "cell_type": "code",
   "execution_count": 19,
   "id": "45fde203",
   "metadata": {},
   "outputs": [
    {
     "data": {
      "text/plain": [
       " 1.0    37493\n",
       "-1.0    34263\n",
       " 0.0     1958\n",
       "dtype: int64"
      ]
     },
     "execution_count": 19,
     "metadata": {},
     "output_type": "execute_result"
    }
   ],
   "source": [
    "hits = np.sign(data.predictions * data.returns).value_counts()\n",
    "hits"
   ]
  },
  {
   "cell_type": "code",
   "execution_count": 20,
   "id": "f5a8660b",
   "metadata": {},
   "outputs": [
    {
     "data": {
      "text/plain": [
       "0.5086279404183737"
      ]
     },
     "execution_count": 20,
     "metadata": {},
     "output_type": "execute_result"
    }
   ],
   "source": [
    "hit_ratio = hits[1.0]/sum(hits)\n",
    "hit_ratio # percentage of correctly predicted market returns"
   ]
  },
  {
   "cell_type": "markdown",
   "id": "ab974946",
   "metadata": {},
   "source": [
    "# In Sample Backtesting and look ahead bias"
   ]
  },
  {
   "cell_type": "code",
   "execution_count": 21,
   "id": "84dc6cf6",
   "metadata": {},
   "outputs": [],
   "source": [
    "data['strategy'] = data.predictions * data.returns"
   ]
  },
  {
   "cell_type": "code",
   "execution_count": 22,
   "id": "9002a9d0",
   "metadata": {},
   "outputs": [],
   "source": [
    "data[\"creturns\"] = data[\"returns\"].cumsum().apply(np.exp)\n",
    "data[\"cstrategy\"] = data[\"strategy\"].cumsum().apply(np.exp)"
   ]
  },
  {
   "cell_type": "code",
   "execution_count": 23,
   "id": "724323b0",
   "metadata": {},
   "outputs": [
    {
     "data": {
      "image/png": "[encoded data removed]",
      "text/plain": [
       "<Figure size 1200x800 with 1 Axes>"
      ]
     },
     "metadata": {},
     "output_type": "display_data"
    }
   ],
   "source": [
    "data[[\"creturns\", \"cstrategy\"]].plot(figsize = (12 , 8))\n",
    "plt.show()"
   ]
  },
  {
   "cell_type": "code",
   "execution_count": 24,
   "id": "dc1a7eab",
   "metadata": {},
   "outputs": [],
   "source": [
    "data[\"trades\"] = data.predictions.diff().fillna(0).abs()"
   ]
  },
  {
   "cell_type": "code",
   "execution_count": 25,
   "id": "c6619f9e",
   "metadata": {},
   "outputs": [
    {
     "data": {
      "text/plain": [
       "0.0    37100\n",
       "2.0    36614\n",
       "Name: trades, dtype: int64"
      ]
     },
     "execution_count": 25,
     "metadata": {},
     "output_type": "execute_result"
    }
   ],
   "source": [
    "data.trades.value_counts()"
   ]
  },
  {
   "cell_type": "code",
   "execution_count": null,
   "id": "59b72183",
   "metadata": {},
   "outputs": [],
   "source": []
  }
 ],
 "metadata": {
  "kernelspec": {
   "display_name": "Python 3 (ipykernel)",
   "language": "python",
   "name": "python3"
  },
  "language_info": {
   "codemirror_mode": {
    "name": "ipython",
    "version": 3
   },
   "file_extension": ".py",
   "mimetype": "text/x-python",
   "name": "python",
   "nbconvert_exporter": "python",
   "pygments_lexer": "ipython3",
   "version": "3.8.8"
  }
 },
 "nbformat": 4,
 "nbformat_minor": 5
}
