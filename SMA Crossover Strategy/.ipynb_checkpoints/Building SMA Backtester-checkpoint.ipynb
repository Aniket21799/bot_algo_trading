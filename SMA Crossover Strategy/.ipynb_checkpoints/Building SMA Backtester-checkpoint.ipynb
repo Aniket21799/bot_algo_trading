{
 "cells": [
  {
   "cell_type": "code",
   "execution_count": 1,
   "id": "c3765344",
   "metadata": {},
   "outputs": [],
   "source": [
    "import pandas as pd\n",
    "import numpy as np\n",
    "import matplotlib.pyplot as plt\n",
    "from itertools import product"
   ]
  },
  {
   "cell_type": "code",
   "execution_count": 2,
   "id": "401c2e63",
   "metadata": {},
   "outputs": [],
   "source": [
    "class SMA_Backtester():\n",
    "    ''' Class for Vectorized Backtesting of SMA based trading Strategies\n",
    "    '''\n",
    "    def __init__(self, symbol, SMA_S, SMA_L, start, end):\n",
    "        '''Parameters\n",
    "        --------------\n",
    "        symbol: str\n",
    "            ticker symbol to be backtested\n",
    "        SMA_S: int\n",
    "            moving window in bars(eg: days) for shorter SMA\n",
    "        SMA_L: int\n",
    "            moving window in bars(eg: days) for longer SMA\n",
    "        start: str\n",
    "            start date for data import \n",
    "        end: str\n",
    "            end date for data import\n",
    "        \n",
    "        '''\n",
    "        self.symbol = symbol\n",
    "        self.SMA_S = SMA_S\n",
    "        self.SMA_L = SMA_L\n",
    "        self.start = start\n",
    "        self.end = end\n",
    "        self.results = None\n",
    "        self.get_data()\n",
    "        self.prepare_data()\n",
    "        \n",
    "    def __repr__(self):\n",
    "        return 'SMA_Back_Tester(symbol = {}, SMA_S = {}, SMA_L = {}, start = {}, end = {})'.format(self.symbol, self.SMA_S,\n",
    "                                                                                                  self.SMA_L, self.start, self.end)\n",
    "        \n",
    "    def get_data(self):\n",
    "        ''' Imports the data for 'forex_pairs.csv' (source can be changed)\n",
    "        '''\n",
    "        raw = pd.read_csv('forex_pairs.csv', parse_dates= ['Date'], index_col= 'Date')\n",
    "        raw = raw[self.symbol].to_frame().dropna()\n",
    "        raw = raw.loc[self.start: self.end].copy()\n",
    "        raw.rename(columns= {self.symbol: 'price'}, inplace = True)\n",
    "        raw['returns'] = np.log(raw/raw.shift(1))\n",
    "        self.data = raw\n",
    "        \n",
    "    \n",
    "    def prepare_data(self):\n",
    "        ''' Prepares the data for strategy Backtesting\n",
    "        '''\n",
    "        data = self.data.copy()\n",
    "        data['SMA_S'] = data.price.rolling(self.SMA_S).mean()\n",
    "        data['SMA_L'] = data.price.rolling(self.SMA_L).mean()\n",
    "        self.data = data\n",
    "        \n",
    "        \n",
    "    def set_parameters(self, SMA_S = None, SMA_L = None):\n",
    "        '''Updates SMA parameters and prepares dataset\n",
    "        '''\n",
    "        if SMA_S is not None:\n",
    "            self.SMA_S = SMA_S\n",
    "            self.data['SMA_S'] = self.data.price.rolling(self.SMA_S).mean()\n",
    "        \n",
    "        if SMA_L is not None:\n",
    "            self.SMA_L = SMA_L\n",
    "            self.data['SMA_L'] = self.data.price.rolling(self.SMA_L).mean()\n",
    "    \n",
    "    def test_strategy(self):\n",
    "        '''Backtests the SMA based trading strategy\n",
    "        '''\n",
    "        data = self.data.copy().dropna()\n",
    "        data['position'] = np.where(data['SMA_S'] > data['SMA_L'], 1, -1)\n",
    "        data['r_strategy'] = data.position.shift(1) * data['returns']\n",
    "        data.dropna(inplace = True)\n",
    "        data['cumreturns'] = data['returns'].cumsum().apply(np.exp)\n",
    "        data['cumstrategy'] = data['r_strategy'].cumsum().apply(np.exp)\n",
    "        self.results = data\n",
    "        \n",
    "        performance = data.cumstrategy.iloc[-1] #absolute performance\n",
    "        outperformace = data.cumstrategy.iloc[-1] - data.cumreturns.iloc[-1]\n",
    "        return round(performance, 6), round(outperformace, 6)\n",
    "    \n",
    "    def plot_results(self):\n",
    "        ''' Plots the performace of the trading strategy and compares to 'Buy and Hold'\n",
    "        '''\n",
    "        if self.results is None:\n",
    "            print('Run test_strategy first')\n",
    "        else:\n",
    "            title = '{} | SMA_S{} | SMA_L{}'.format(self.symbol, self.SMA_S, self.SMA_L)\n",
    "            self.results[['cumreturns', 'cumstrategy']].plot(title = title, figsize = (12,8))\n",
    "        \n",
    "    def optimize_parameters(self, SMA_S_range, SMA_L_range):\n",
    "        ''' Finds the optimal strategy (global maximum) given the SMA parameter ranges.\n",
    "            \n",
    "            Parameters\n",
    "            -----------\n",
    "            SMA_S_range, SMA_L_range: tuple\n",
    "            tuples of the form(start, end, step_size)    \n",
    "        '''\n",
    "        combinations = list(product(range(*SMA_S_range), range(*SMA_L_range)))\n",
    "        \n",
    "        #test all combinations\n",
    "        results = []\n",
    "        for comb in combinations:\n",
    "            self.set_parameters(comb[0], comb[1])\n",
    "            results.append(self.test_strategy()[0]) #only appending performance and not outperformance\n",
    "            \n",
    "        best_perf = np.max(results)  #best performance\n",
    "        opt = combinations[np.argmax(results)] #optimal parameters.\n",
    "        \n",
    "        #run/set optimal parameters\n",
    "        self.set_parameters(opt[0], opt[1])\n",
    "        self.test_strategy()\n",
    "        \n",
    "        #creating a df with many results\n",
    "        # created for further analysis.\n",
    "        many_results = pd.DataFrame(data= combinations, columns = ['SMA_S', 'SMA_L'])\n",
    "        many_results['performance'] = results\n",
    "        self.results_overview = many_results\n",
    "        \n",
    "        return opt, best_perf"
   ]
  },
  {
   "cell_type": "code",
   "execution_count": 3,
   "id": "6ed116a7",
   "metadata": {},
   "outputs": [],
   "source": [
    "tester = SMA_Backtester('EURUSD=X', 50,200, '2004-01-01', '2020-06-30')"
   ]
  },
  {
   "cell_type": "code",
   "execution_count": 4,
   "id": "ee652d95",
   "metadata": {},
   "outputs": [
    {
     "data": {
      "text/plain": [
       "SMA_Back_Tester(symbol = EURUSD=X, SMA_S = 50, SMA_L = 200, start = 2004-01-01, end = 2020-06-30)"
      ]
     },
     "execution_count": 4,
     "metadata": {},
     "output_type": "execute_result"
    }
   ],
   "source": [
    "tester"
   ]
  },
  {
   "cell_type": "code",
   "execution_count": 5,
   "id": "5be81205",
   "metadata": {},
   "outputs": [
    {
     "data": {
      "text/plain": [
       "((46, 137), 2.526694)"
      ]
     },
     "execution_count": 5,
     "metadata": {},
     "output_type": "execute_result"
    }
   ],
   "source": [
    "tester.optimize_parameters((10, 50, 1), (100, 252, 1))"
   ]
  },
  {
   "cell_type": "code",
   "execution_count": null,
   "id": "d87361d4",
   "metadata": {},
   "outputs": [],
   "source": []
  }
 ],
 "metadata": {
  "kernelspec": {
   "display_name": "Python 3 (ipykernel)",
   "language": "python",
   "name": "python3"
  },
  "language_info": {
   "codemirror_mode": {
    "name": "ipython",
    "version": 3
   },
   "file_extension": ".py",
   "mimetype": "text/x-python",
   "name": "python",
   "nbconvert_exporter": "python",
   "pygments_lexer": "ipython3",
   "version": "3.8.8"
  }
 },
 "nbformat": 4,
 "nbformat_minor": 5
}
